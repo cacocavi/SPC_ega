{
  "cells": [
    {
      "cell_type": "markdown",
      "metadata": {
        "id": "view-in-github",
        "colab_type": "text"
      },
      "source": [
        "<a href=\"https://colab.research.google.com/github/cacocavi/SPC_ega/blob/main/c4.ipynb\" target=\"_parent\"><img src=\"https://colab.research.google.com/assets/colab-badge.svg\" alt=\"Open In Colab\"/></a>"
      ]
    },
    {
      "cell_type": "markdown",
      "source": [],
      "metadata": {
        "id": "kTA86LSB_Ca5"
      }
    },
    {
      "cell_type": "code",
      "source": [],
      "metadata": {
        "id": "cF-geDvr_CtZ"
      },
      "execution_count": null,
      "outputs": []
    },
    {
      "cell_type": "markdown",
      "source": [
        "c4"
      ],
      "metadata": {
        "id": "6E8Qv4ai_4dR"
      }
    },
    {
      "cell_type": "code",
      "source": [],
      "metadata": {
        "id": "tOGwd240DwdB"
      },
      "execution_count": null,
      "outputs": []
    },
    {
      "cell_type": "code",
      "source": [
        "import numpy as np\n",
        "import scipy.stats as stats \n",
        "import math\n",
        "\n",
        "\n",
        "\n",
        "\n",
        "\n",
        "#numero subgrupos\n",
        "arr=np.arange(2,600)\n",
        "\n",
        "print(type(arr))\n",
        "\n",
        "\n",
        "#constante\n",
        "raiz2=math.sqrt(2)\n",
        "exp_1 = math.exp( -1 )\n",
        "\n",
        "#numero subgrupos /2\n",
        "arr_div=arr/2\n",
        "#numero subgrupos -1\n",
        "arr_sub=arr-1\n",
        "#numero subgrupos-1/2\n",
        "arr_subdiv=arr_sub/2\n",
        "\n",
        "\n",
        "#densidade gama\n",
        "gama_n2 = stats.gamma.pdf(1, a=arr_div, scale=1)\n",
        "gama_n12 = stats.gamma.pdf(1, a=arr_subdiv, scale=1)\n",
        "\n",
        "#gera raiz de n-1\n",
        "i=1\n",
        "m_arr=[]\n",
        "\n",
        "for i in arr_sub:\n",
        "  m=math.sqrt(i)\n",
        "  m_arr.append(m)\n",
        "   # print(m_arr)\n",
        "  i+=1\n",
        "\n",
        "#gera raiz quadrada de n-1\n",
        "def qudr(r):\n",
        "  return math.sqrt(2)/r\n",
        "\n",
        "raiz_n= list(map(qudr, m_arr))\n",
        "\n",
        "\n",
        "#gera gama\n",
        "def densgama_n2(g):\n",
        "  return 1/g*math.exp( -1 )\n",
        "\n",
        "dgama_n2 = list(map(densgama_n2,gama_n2))\n",
        "dgama_12= list(map(densgama_n2,gama_n12))\n",
        "\n",
        "c4= raiz_n *(dgama_n2/dgama_12)\n",
        "\n",
        "\n",
        "\n",
        "\n",
        "\n",
        "\n",
        "#teste densidade gama\n",
        "#x = 1\n",
        "type(arr_sub)\n",
        "arr_x = np.array(list(map(np.float, arr_sub)))\n",
        "#list_1=[1,3,5,7,9]\n",
        "#for i in list_1:\n",
        " # m1=math.sqrt(i)\n",
        " # print(i)\n",
        "  #print(m1)\n",
        "\n",
        "print('------------------------------')\n",
        "\n",
        "#dens_gaman_2=1/y6*exp_1\n",
        "\n",
        "#y1 = stats.gamma.pdf(x, a=1, scale=1)\n",
        "#y6= stats.gamma.pdf(x, a=6, scale=1)\n",
        "#y170 = stats.gamma.pdf(x, a=170, scale=1)\n",
        "#y171= stats.gamma.pdf(x, a=171, scale=1)\n",
        "\n",
        "\n",
        "#dens_gaman_2=1/y6*exp_1\n",
        "\n",
        "\n",
        "\n",
        "\n",
        "\n",
        "\n",
        "\n",
        "\n",
        "\n",
        "#print(c4)\n"
      ],
      "metadata": {
        "colab": {
          "base_uri": "https://localhost:8080/",
          "height": 287
        },
        "id": "VqRye_RdqyAW",
        "outputId": "b8beeca6-f891-4f8d-8f82-9a080ed74fd5"
      },
      "execution_count": 91,
      "outputs": [
        {
          "output_type": "stream",
          "name": "stdout",
          "text": [
            "<class 'numpy.ndarray'>\n"
          ]
        },
        {
          "output_type": "stream",
          "name": "stderr",
          "text": [
            "/usr/local/lib/python3.7/dist-packages/ipykernel_launcher.py:50: RuntimeWarning: overflow encountered in double_scalars\n",
            "/usr/local/lib/python3.7/dist-packages/ipykernel_launcher.py:50: RuntimeWarning: divide by zero encountered in double_scalars\n"
          ]
        },
        {
          "output_type": "error",
          "ename": "TypeError",
          "evalue": "ignored",
          "traceback": [
            "\u001b[0;31m---------------------------------------------------------------------------\u001b[0m",
            "\u001b[0;31mTypeError\u001b[0m                                 Traceback (most recent call last)",
            "\u001b[0;32m<ipython-input-91-4038f4edf624>\u001b[0m in \u001b[0;36m<module>\u001b[0;34m\u001b[0m\n\u001b[1;32m     53\u001b[0m \u001b[0mdgama_12\u001b[0m\u001b[0;34m=\u001b[0m \u001b[0mlist\u001b[0m\u001b[0;34m(\u001b[0m\u001b[0mmap\u001b[0m\u001b[0;34m(\u001b[0m\u001b[0mdensgama_n2\u001b[0m\u001b[0;34m,\u001b[0m\u001b[0mgama_n12\u001b[0m\u001b[0;34m)\u001b[0m\u001b[0;34m)\u001b[0m\u001b[0;34m\u001b[0m\u001b[0;34m\u001b[0m\u001b[0m\n\u001b[1;32m     54\u001b[0m \u001b[0;34m\u001b[0m\u001b[0m\n\u001b[0;32m---> 55\u001b[0;31m \u001b[0mc4\u001b[0m\u001b[0;34m=\u001b[0m \u001b[0mraiz_n\u001b[0m \u001b[0;34m*\u001b[0m\u001b[0;34m(\u001b[0m\u001b[0mdgama_n2\u001b[0m\u001b[0;34m/\u001b[0m\u001b[0mdgama_12\u001b[0m\u001b[0;34m)\u001b[0m\u001b[0;34m\u001b[0m\u001b[0;34m\u001b[0m\u001b[0m\n\u001b[0m\u001b[1;32m     56\u001b[0m \u001b[0;34m\u001b[0m\u001b[0m\n\u001b[1;32m     57\u001b[0m \u001b[0;34m\u001b[0m\u001b[0m\n",
            "\u001b[0;31mTypeError\u001b[0m: unsupported operand type(s) for /: 'list' and 'list'"
          ]
        }
      ]
    },
    {
      "cell_type": "markdown",
      "source": [
        "# Nova seção"
      ],
      "metadata": {
        "id": "eYbreRBZ14yU"
      }
    },
    {
      "cell_type": "code",
      "source": [
        "from google.colab import drive\n",
        "drive.mount('/content/drive')"
      ],
      "metadata": {
        "id": "tm0Kobpd-BT_",
        "outputId": "2555b2c7-d593-45cf-85ce-b2d459c90e54",
        "colab": {
          "base_uri": "https://localhost:8080/"
        }
      },
      "execution_count": null,
      "outputs": [
        {
          "output_type": "stream",
          "name": "stdout",
          "text": [
            "Mounted at /content/drive\n"
          ]
        }
      ]
    },
    {
      "cell_type": "code",
      "source": [],
      "metadata": {
        "id": "7sWtzSeI9ClB"
      },
      "execution_count": null,
      "outputs": []
    }
  ],
  "metadata": {
    "colab": {
      "collapsed_sections": [],
      "name": "c4",
      "provenance": [],
      "include_colab_link": true
    },
    "kernelspec": {
      "display_name": "Python 3",
      "name": "python3"
    }
  },
  "nbformat": 4,
  "nbformat_minor": 0
}